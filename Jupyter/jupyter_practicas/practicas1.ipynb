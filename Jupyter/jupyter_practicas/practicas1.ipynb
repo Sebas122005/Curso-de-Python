{
 "cells": [
  {
   "cell_type": "code",
   "execution_count": 2,
   "id": "ec35eaf0-c43b-42c0-a710-2063d62e5c0e",
   "metadata": {},
   "outputs": [
    {
     "name": "stdout",
     "output_type": "stream",
     "text": [
      "Este es un archivo de Jupyter\n"
     ]
    }
   ],
   "source": [
    "print('Este es un archivo de Jupyter')"
   ]
  },
  {
   "cell_type": "code",
   "execution_count": 3,
   "id": "75a53e6a-5e78-49fe-9d2e-2450d55dd15d",
   "metadata": {},
   "outputs": [],
   "source": [
    "x=2\n",
    "y=1\n",
    "xy=x+y"
   ]
  },
  {
   "cell_type": "code",
   "execution_count": 4,
   "id": "fff2fd08-54bc-4f51-bcc7-fddea8c6ced6",
   "metadata": {},
   "outputs": [
    {
     "data": {
      "text/plain": [
       "3"
      ]
     },
     "execution_count": 4,
     "metadata": {},
     "output_type": "execute_result"
    }
   ],
   "source": [
    "xy"
   ]
  },
  {
   "cell_type": "code",
   "execution_count": 5,
   "id": "3be3c0ca-35c5-4261-a514-8bf3c36e8c01",
   "metadata": {},
   "outputs": [
    {
     "name": "stdout",
     "output_type": "stream",
     "text": [
      "El resultado de la suma es: 3\n"
     ]
    }
   ],
   "source": [
    "print('El resultado de la suma es:', xy)"
   ]
  },
  {
   "cell_type": "code",
   "execution_count": 6,
   "id": "cb1d4b96-4304-4097-9eb8-0691574e3ea2",
   "metadata": {},
   "outputs": [
    {
     "name": "stdout",
     "output_type": "stream",
     "text": [
      "Hola:  3\n"
     ]
    }
   ],
   "source": [
    "print('Hola: ',xy)"
   ]
  },
  {
   "cell_type": "markdown",
   "id": "8ae0a934-36a3-463f-a3dc-ec7fab33aaa8",
   "metadata": {},
   "source": [
    "# Este es un Markdown"
   ]
  },
  {
   "cell_type": "code",
   "execution_count": null,
   "id": "8edb64c0-7adf-4f4a-a2b4-07eaf5218eed",
   "metadata": {},
   "outputs": [],
   "source": []
  }
 ],
 "metadata": {
  "kernelspec": {
   "display_name": "Python 3 (ipykernel)",
   "language": "python",
   "name": "python3"
  },
  "language_info": {
   "codemirror_mode": {
    "name": "ipython",
    "version": 3
   },
   "file_extension": ".py",
   "mimetype": "text/x-python",
   "name": "python",
   "nbconvert_exporter": "python",
   "pygments_lexer": "ipython3",
   "version": "3.13.7"
  }
 },
 "nbformat": 4,
 "nbformat_minor": 5
}
