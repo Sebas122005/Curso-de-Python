{
 "cells": [
  {
   "cell_type": "markdown",
   "id": "d4967ce1-d2f9-4800-bfdd-e7cea593f0e5",
   "metadata": {},
   "source": [
    "# Ejemplos de For"
   ]
  },
  {
   "cell_type": "code",
   "execution_count": 15,
   "id": "10d9f0f5-39af-4608-aa48-28e6d7e2a2c3",
   "metadata": {},
   "outputs": [
    {
     "name": "stdout",
     "output_type": "stream",
     "text": [
      "$$$$$$$$$$\n",
      "###############\n",
      "$$$$$$$$$$$$$$$$$$$$\n",
      "#########################\n",
      "$$$$$$$$$$$$$$$$$$$$$$$$$$$$$$\n",
      "###################################\n",
      "$$$$$$$$$$$$$$$$$$$$$$$$$$$$$$$$$$$$$$$$\n",
      "#############################################\n"
     ]
    }
   ],
   "source": [
    "#Uso de Range(incial, fin, contador++)\n",
    "for x in range(10,50,5):\n",
    "    if(x%2==0):\n",
    "        print('$'*x)\n",
    "    else:\n",
    "        print('#'*x)"
   ]
  },
  {
   "cell_type": "code",
   "execution_count": 21,
   "id": "e5fc8984-1da3-43ab-ab2a-c5ee0fb23d5a",
   "metadata": {},
   "outputs": [
    {
     "name": "stdin",
     "output_type": "stream",
     "text": [
      "Ingresar valor a multiplicar:  6.5\n",
      "Hasta que numero se multiplicará?:  10\n"
     ]
    },
    {
     "name": "stdout",
     "output_type": "stream",
     "text": [
      "Tabla de Multiplicar de  6.5\n",
      "6.5 x 1 = 6.5\n",
      "6.5 x 2 = 13.0\n",
      "6.5 x 3 = 19.5\n",
      "6.5 x 4 = 26.0\n",
      "6.5 x 5 = 32.5\n",
      "6.5 x 6 = 39.0\n",
      "6.5 x 7 = 45.5\n",
      "6.5 x 8 = 52.0\n",
      "6.5 x 9 = 58.5\n",
      "6.5 x 10 = 65.0\n"
     ]
    }
   ],
   "source": [
    "# Generar tabla de multiplicar\n",
    "valor_multiplo= float(input('Ingresar valor a multiplicar: '))\n",
    "valor_iterar=int(input('Hasta que numero se multiplicará?: '))\n",
    "\n",
    "print('Tabla de Multiplicar de ',valor_multiplo)\n",
    "for x in range(1,int(valor_iterar+1)):\n",
    "    print(f'{valor_multiplo} x {x} = {x*valor_multiplo}')"
   ]
  },
  {
   "cell_type": "code",
   "execution_count": 22,
   "id": "3b81d694-dc81-4a72-98bb-0cdd0ba86091",
   "metadata": {},
   "outputs": [
    {
     "name": "stdout",
     "output_type": "stream",
     "text": [
      "Tabla de Multiplicar de 1\n",
      "1 x 1 = 1\n",
      "1 x 2 = 2\n",
      "1 x 3 = 3\n",
      "1 x 4 = 4\n",
      "1 x 5 = 5\n",
      "1 x 6 = 6\n",
      "1 x 7 = 7\n",
      "1 x 8 = 8\n",
      "1 x 9 = 9\n",
      "1 x 10 = 10\n",
      "Tabla de Multiplicar de 2\n",
      "2 x 1 = 2\n",
      "2 x 2 = 4\n",
      "2 x 3 = 6\n",
      "2 x 4 = 8\n",
      "2 x 5 = 10\n",
      "2 x 6 = 12\n",
      "2 x 7 = 14\n",
      "2 x 8 = 16\n",
      "2 x 9 = 18\n",
      "2 x 10 = 20\n",
      "Tabla de Multiplicar de 3\n",
      "3 x 1 = 3\n",
      "3 x 2 = 6\n",
      "3 x 3 = 9\n",
      "3 x 4 = 12\n",
      "3 x 5 = 15\n",
      "3 x 6 = 18\n",
      "3 x 7 = 21\n",
      "3 x 8 = 24\n",
      "3 x 9 = 27\n",
      "3 x 10 = 30\n",
      "Tabla de Multiplicar de 4\n",
      "4 x 1 = 4\n",
      "4 x 2 = 8\n",
      "4 x 3 = 12\n",
      "4 x 4 = 16\n",
      "4 x 5 = 20\n",
      "4 x 6 = 24\n",
      "4 x 7 = 28\n",
      "4 x 8 = 32\n",
      "4 x 9 = 36\n",
      "4 x 10 = 40\n",
      "Tabla de Multiplicar de 5\n",
      "5 x 1 = 5\n",
      "5 x 2 = 10\n",
      "5 x 3 = 15\n",
      "5 x 4 = 20\n",
      "5 x 5 = 25\n",
      "5 x 6 = 30\n",
      "5 x 7 = 35\n",
      "5 x 8 = 40\n",
      "5 x 9 = 45\n",
      "5 x 10 = 50\n",
      "Tabla de Multiplicar de 6\n",
      "6 x 1 = 6\n",
      "6 x 2 = 12\n",
      "6 x 3 = 18\n",
      "6 x 4 = 24\n",
      "6 x 5 = 30\n",
      "6 x 6 = 36\n",
      "6 x 7 = 42\n",
      "6 x 8 = 48\n",
      "6 x 9 = 54\n",
      "6 x 10 = 60\n",
      "Tabla de Multiplicar de 7\n",
      "7 x 1 = 7\n",
      "7 x 2 = 14\n",
      "7 x 3 = 21\n",
      "7 x 4 = 28\n",
      "7 x 5 = 35\n",
      "7 x 6 = 42\n",
      "7 x 7 = 49\n",
      "7 x 8 = 56\n",
      "7 x 9 = 63\n",
      "7 x 10 = 70\n",
      "Tabla de Multiplicar de 8\n",
      "8 x 1 = 8\n",
      "8 x 2 = 16\n",
      "8 x 3 = 24\n",
      "8 x 4 = 32\n",
      "8 x 5 = 40\n",
      "8 x 6 = 48\n",
      "8 x 7 = 56\n",
      "8 x 8 = 64\n",
      "8 x 9 = 72\n",
      "8 x 10 = 80\n",
      "Tabla de Multiplicar de 9\n",
      "9 x 1 = 9\n",
      "9 x 2 = 18\n",
      "9 x 3 = 27\n",
      "9 x 4 = 36\n",
      "9 x 5 = 45\n",
      "9 x 6 = 54\n",
      "9 x 7 = 63\n",
      "9 x 8 = 72\n",
      "9 x 9 = 81\n",
      "9 x 10 = 90\n",
      "Tabla de Multiplicar de 10\n",
      "10 x 1 = 10\n",
      "10 x 2 = 20\n",
      "10 x 3 = 30\n",
      "10 x 4 = 40\n",
      "10 x 5 = 50\n",
      "10 x 6 = 60\n",
      "10 x 7 = 70\n",
      "10 x 8 = 80\n",
      "10 x 9 = 90\n",
      "10 x 10 = 100\n"
     ]
    }
   ],
   "source": [
    "#Mostrar tablas del 1 al 10\n",
    "for a in range(1,11):\n",
    "    print(f'Tabla de Multiplicar de {a}')\n",
    "    for b in range(1,11):\n",
    "        print(f'{a} x {b} = {a*b}')"
   ]
  },
  {
   "cell_type": "code",
   "execution_count": 7,
   "id": "57d428e9-3533-4f63-b17c-175e2dd0d9d9",
   "metadata": {},
   "outputs": [
    {
     "name": "stdout",
     "output_type": "stream",
     "text": [
      " S\n",
      "  e\n",
      "   b\n",
      "    a\n",
      "     s\n",
      "      t\n",
      "       i\n",
      "        a\n",
      "         n\n",
      "           \n",
      "           E\n",
      "            d\n",
      "             u\n",
      "               \n",
      "               C\n",
      "                o\n",
      "                 r\n",
      "                  t\n",
      "                   e\n",
      "                    z\n",
      "                      \n",
      "                      C\n",
      "                       o\n",
      "                        t\n",
      "                         o\n",
      "                          s\n",
      "                            \n",
      "                            D\n",
      "                             N\n",
      "                              I\n",
      "                                \n",
      "                                1\n",
      "                                 2\n",
      "                                  3\n",
      "                                   4\n",
      "                                    5\n",
      "                                     6\n",
      "                                      7\n",
      "                                       8\n",
      "Existen 7 letras Mayusculas\n",
      "Existen 19 letras Minusculas\n",
      "Existen 5 espacios\n",
      "Existen 26 caracteres alfabeticos\n",
      "Existen 8 caracteres numericos\n"
     ]
    }
   ],
   "source": [
    "#Recorrido de palabras en cadenas\n",
    "texto = \"Sebastian Edu Cortez Cotos DNI 12345678\"\n",
    "espacio=' '\n",
    "n=1\n",
    "diccionario_contador={'mayusculas':0,'minusculas':0,'espacio':0,'alfabetico':0,'numeros':0}\n",
    "for letra in texto:\n",
    "    print(f'{espacio*n}{letra}')\n",
    "    n+=1\n",
    "    if letra.isupper():\n",
    "        diccionario_contador['mayusculas']+=1\n",
    "    if letra.islower():\n",
    "        diccionario_contador['minusculas']+=1\n",
    "    if letra.isspace():\n",
    "        diccionario_contador['espacio']+=1\n",
    "    if letra.isalpha():\n",
    "        diccionario_contador['alfabetico']+=1\n",
    "    if letra.isnumeric():\n",
    "        diccionario_contador['numeros']+=1\n",
    "\n",
    "\n",
    "print(f'Existen {diccionario_contador['mayusculas']} letras Mayusculas')\n",
    "print(f'Existen {diccionario_contador['minusculas']} letras Minusculas')\n",
    "print(f'Existen {diccionario_contador['espacio']} espacios')\n",
    "print(f'Existen {diccionario_contador['alfabetico']} caracteres alfabeticos')\n",
    "print(f'Existen {diccionario_contador['numeros']} caracteres numericos')"
   ]
  },
  {
   "cell_type": "code",
   "execution_count": 9,
   "id": "baeeefa1-c6a9-421e-b958-276547a83ee5",
   "metadata": {},
   "outputs": [
    {
     "name": "stdout",
     "output_type": "stream",
     "text": [
      "[1, 2, 3, 4, 5, 6, 7, 8, 9, 10, 11, 12, 13, 14, 15, 16, 17, 18, 19, 20, 21, 22, 23, 24, 25, 26, 27, 28, 29, 30, 31, 32, 33, 34, 35, 36, 37, 38, 39, 40, 41, 42, 43, 44, 45, 46, 47, 48, 49, 50]\n"
     ]
    }
   ],
   "source": [
    "#Uso de break o continue: sirve para romper un ciclo\n",
    "lista=[]\n",
    "for x in range(1,51):\n",
    "    lista.append(x)\n",
    "print(lista)"
   ]
  },
  {
   "cell_type": "code",
   "execution_count": 18,
   "id": "cf5216f1-d7af-4d6a-9bd0-bb5c2aa90ebb",
   "metadata": {},
   "outputs": [
    {
     "name": "stdout",
     "output_type": "stream",
     "text": [
      "La suma del total anterior:0 + 1 agregado es 1\n",
      "La suma del total anterior:1 + 2 agregado es 3\n",
      "La suma del total anterior:3 + 3 agregado es 6\n",
      "La suma del total anterior:6 + 4 agregado es 10\n",
      "La suma del total anterior:10 + 5 agregado es 15\n",
      "La suma del total anterior:15 + 6 agregado es 21\n",
      "La suma del total anterior:21 + 7 agregado es 28\n",
      "La suma del total anterior:28 + 8 agregado es 36\n",
      "La suma del total anterior:36 + 9 agregado es 45\n",
      "La suma del total anterior:45 + 10 agregado es 55\n",
      "La suma del total anterior:55 + 11 agregado es 66\n",
      "La suma del total anterior:66 + 12 agregado es 78\n",
      "La suma del total anterior:78 + 13 agregado es 91\n",
      "La suma del total anterior:91 + 14 agregado es 105\n",
      "La suma del total anterior:105 + 15 agregado es 120\n",
      "La suma del total anterior:120 + 16 agregado es 136\n",
      "La suma del total anterior:136 + 17 agregado es 153\n",
      "La suma del total anterior:153 + 18 agregado es 171\n",
      "La suma del total anterior:171 + 19 agregado es 190\n",
      "La suma del total anterior:190 + 20 agregado es 210\n"
     ]
    }
   ],
   "source": [
    "total=0\n",
    "total_f=0\n",
    "for y in lista:\n",
    "    if y>20:\n",
    "        break\n",
    "    total=total_f\n",
    "    total_f+=y\n",
    "    print(f\"La suma del total anterior:{total} + {y} agregado es {total_f}\")"
   ]
  },
  {
   "cell_type": "code",
   "execution_count": null,
   "id": "cf4f878b-05da-4e92-9272-fb177081eecb",
   "metadata": {},
   "outputs": [],
   "source": []
  }
 ],
 "metadata": {
  "kernelspec": {
   "display_name": "Python 3 (ipykernel)",
   "language": "python",
   "name": "python3"
  },
  "language_info": {
   "codemirror_mode": {
    "name": "ipython",
    "version": 3
   },
   "file_extension": ".py",
   "mimetype": "text/x-python",
   "name": "python",
   "nbconvert_exporter": "python",
   "pygments_lexer": "ipython3",
   "version": "3.13.7"
  }
 },
 "nbformat": 4,
 "nbformat_minor": 5
}
