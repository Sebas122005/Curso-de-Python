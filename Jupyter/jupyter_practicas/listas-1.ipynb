{
 "cells": [
  {
   "cell_type": "markdown",
   "id": "bace0eb4-8ac0-456c-afaa-afd6f02830f3",
   "metadata": {},
   "source": [
    "# Tema de Listas 1"
   ]
  },
  {
   "cell_type": "code",
   "execution_count": 24,
   "id": "b99fe43e-6345-4cb2-bb95-da7f8f0a654c",
   "metadata": {},
   "outputs": [
    {
     "name": "stdout",
     "output_type": "stream",
     "text": [
      "[]\n"
     ]
    }
   ],
   "source": [
    "lista = []\n",
    "print(lista)"
   ]
  },
  {
   "cell_type": "code",
   "execution_count": 25,
   "id": "9507fe64-7388-4e11-96c5-d09454a29cb6",
   "metadata": {},
   "outputs": [
    {
     "name": "stdout",
     "output_type": "stream",
     "text": [
      "['php', 'javascript', 'python', 'c', 'java']\n"
     ]
    }
   ],
   "source": [
    "lista = ['php','javascript','python','c','java']\n",
    "print(lista)"
   ]
  },
  {
   "cell_type": "code",
   "execution_count": 26,
   "id": "2d906e24-4b3f-41ad-8c30-60901fc2296a",
   "metadata": {},
   "outputs": [
    {
     "name": "stdout",
     "output_type": "stream",
     "text": [
      "php\n",
      "['python', 'c']\n"
     ]
    }
   ],
   "source": [
    "print(lista[0])\n",
    "print(lista[2:4])"
   ]
  },
  {
   "cell_type": "code",
   "execution_count": 27,
   "id": "307e37bc-db49-4da2-a589-7a29771d02f4",
   "metadata": {},
   "outputs": [],
   "source": [
    "lista.append('c#')"
   ]
  },
  {
   "cell_type": "code",
   "execution_count": 28,
   "id": "50669023-d220-4c9d-8555-7a85439aa628",
   "metadata": {},
   "outputs": [
    {
     "data": {
      "text/plain": [
       "['php', 'javascript', 'python', 'c', 'java', 'c#']"
      ]
     },
     "execution_count": 28,
     "metadata": {},
     "output_type": "execute_result"
    }
   ],
   "source": [
    "lista"
   ]
  },
  {
   "cell_type": "code",
   "execution_count": 29,
   "id": "fd022996-bef5-4580-a711-c04b3c078183",
   "metadata": {},
   "outputs": [],
   "source": [
    "lista.remove('php')"
   ]
  },
  {
   "cell_type": "code",
   "execution_count": 30,
   "id": "9c45ff1b-4629-44a5-8e06-3fdd6f078b0c",
   "metadata": {},
   "outputs": [
    {
     "data": {
      "text/plain": [
       "['javascript', 'python', 'c', 'java', 'c#']"
      ]
     },
     "execution_count": 30,
     "metadata": {},
     "output_type": "execute_result"
    }
   ],
   "source": [
    "lista"
   ]
  },
  {
   "cell_type": "markdown",
   "id": "6405f35a-5a7d-4a45-85a9-1199e5467597",
   "metadata": {},
   "source": [
    "# Listas 2"
   ]
  },
  {
   "cell_type": "code",
   "execution_count": 35,
   "id": "8981df8e-2494-4e04-8d30-5a48db52a4e7",
   "metadata": {},
   "outputs": [
    {
     "name": "stdout",
     "output_type": "stream",
     "text": [
      "10\n"
     ]
    }
   ],
   "source": [
    "listado=[1,2,3,4,5,6,7,8,9,10]\n",
    "print(len(listado))"
   ]
  },
  {
   "cell_type": "code",
   "execution_count": 36,
   "id": "7a747f04-c0f9-4744-912f-b8c2164d907d",
   "metadata": {},
   "outputs": [
    {
     "data": {
      "text/plain": [
       "10"
      ]
     },
     "execution_count": 36,
     "metadata": {},
     "output_type": "execute_result"
    }
   ],
   "source": [
    "len(listado)"
   ]
  },
  {
   "cell_type": "code",
   "execution_count": 37,
   "id": "41be934b-1095-4e2b-b9c5-4c9b28e1bf50",
   "metadata": {},
   "outputs": [
    {
     "data": {
      "text/plain": [
       "[1, 2, 3, 4, 5, 6, 7, 8, 9, 10, 11]"
      ]
     },
     "execution_count": 37,
     "metadata": {},
     "output_type": "execute_result"
    }
   ],
   "source": [
    "# Agregar valor al final\n",
    "listado.append(11)\n",
    "listado"
   ]
  },
  {
   "cell_type": "code",
   "execution_count": 38,
   "id": "bdd7d7ae-98dc-40e8-8063-b8de4402b9c3",
   "metadata": {},
   "outputs": [],
   "source": [
    "# Agregar con Insert en una posición de listado\n",
    "listado.insert(4,5)"
   ]
  },
  {
   "cell_type": "code",
   "execution_count": 39,
   "id": "6b20427e-b714-46f3-a844-fa9f4a330c5e",
   "metadata": {},
   "outputs": [
    {
     "data": {
      "text/plain": [
       "[1, 2, 3, 4, 5, 5, 6, 7, 8, 9, 10, 11]"
      ]
     },
     "execution_count": 39,
     "metadata": {},
     "output_type": "execute_result"
    }
   ],
   "source": [
    "listado"
   ]
  },
  {
   "cell_type": "code",
   "execution_count": 40,
   "id": "3eac9182-cf0a-4a6a-b8e1-0f2a051ae6c5",
   "metadata": {},
   "outputs": [
    {
     "name": "stdout",
     "output_type": "stream",
     "text": [
      "[1, 2, 3, 4, 5, 5, 6, 7, 8, 9, 10, 11, 12, 13, 14, 15, 16, 17]\n"
     ]
    }
   ],
   "source": [
    "listado_2=[12,13,14,15,16,17]\n",
    "listado_total=listado+listado_2\n",
    "print(listado_total)"
   ]
  },
  {
   "cell_type": "code",
   "execution_count": 41,
   "id": "f4b70a7c-b0ef-4951-801b-d71f4943fb9a",
   "metadata": {},
   "outputs": [
    {
     "name": "stdout",
     "output_type": "stream",
     "text": [
      "False\n"
     ]
    }
   ],
   "source": [
    "# Buscar un elemento\n",
    "print(13 in listado)"
   ]
  },
  {
   "cell_type": "code",
   "execution_count": 42,
   "id": "c238c943-cf87-43d2-84bb-8ecf80e8c022",
   "metadata": {},
   "outputs": [
    {
     "name": "stdout",
     "output_type": "stream",
     "text": [
      "True\n"
     ]
    }
   ],
   "source": [
    "print(14 in listado_total)"
   ]
  },
  {
   "cell_type": "code",
   "execution_count": 44,
   "id": "587ce1b4-d643-4634-ad5d-a930ca6e0b93",
   "metadata": {},
   "outputs": [
    {
     "name": "stdout",
     "output_type": "stream",
     "text": [
      "17\n"
     ]
    }
   ],
   "source": [
    "# Saber la posición de cada elemento\n",
    "print(listado_total.index(17))"
   ]
  },
  {
   "cell_type": "code",
   "execution_count": 47,
   "id": "c45f4c0b-251d-4be3-a859-5dfd7d27273e",
   "metadata": {},
   "outputs": [
    {
     "data": {
      "text/plain": [
       "2"
      ]
     },
     "execution_count": 47,
     "metadata": {},
     "output_type": "execute_result"
    }
   ],
   "source": [
    "# Contar el numero de elementos existen\n",
    "listado_total.count(5)"
   ]
  },
  {
   "cell_type": "code",
   "execution_count": 48,
   "id": "a0066daf-f85f-42d5-93e5-c8eb4da73ca0",
   "metadata": {},
   "outputs": [
    {
     "name": "stdout",
     "output_type": "stream",
     "text": [
      "[1, 2, 3, 4, 5, 5, 6, 7, 8, 9, 10, 11, 12, 13, 14, 15, 16, 17]\n",
      "[1, 2, 3, 4, 5, 5, 6, 7, 8, 9, 10, 11, 12, 13, 14, 15, 16]\n"
     ]
    }
   ],
   "source": [
    "#Eliminar elemento de una lista\n",
    "print(listado_total)\n",
    "listado_total.pop()\n",
    "print(listado_total)"
   ]
  },
  {
   "cell_type": "code",
   "execution_count": 49,
   "id": "363c0add-02fc-40fe-a599-2f07dab06652",
   "metadata": {},
   "outputs": [
    {
     "name": "stdout",
     "output_type": "stream",
     "text": [
      "[1, 2, 3, 4, 5, 5, 6, 7, 8, 9, 10, 11, 12, 13, 14, 15, 16]\n"
     ]
    },
    {
     "data": {
      "text/plain": [
       "[1, 2, 3, 4, 5, 6, 7, 8, 9, 10, 11, 12, 13, 14, 15, 16]"
      ]
     },
     "execution_count": 49,
     "metadata": {},
     "output_type": "execute_result"
    }
   ],
   "source": [
    "# Eliminar por cordenada\n",
    "print(listado_total)\n",
    "listado_total.pop(4)\n",
    "listado_total"
   ]
  },
  {
   "cell_type": "code",
   "execution_count": 52,
   "id": "5b8f3c20-3054-41d1-a9e3-8ee8c9c4b6c0",
   "metadata": {},
   "outputs": [
    {
     "data": {
      "text/plain": [
       "[3, 4, 5, 6, 7, 8, 9, 10, 11, 12, 13, 14, 15, 16]"
      ]
     },
     "execution_count": 52,
     "metadata": {},
     "output_type": "execute_result"
    }
   ],
   "source": [
    "# Eliminar con Remove\n",
    "listado_total\n",
    "listado_total.remove(2)\n",
    "listado_total"
   ]
  },
  {
   "cell_type": "code",
   "execution_count": 53,
   "id": "2d562fb4-8f10-49d0-9ba8-f0f36eec7da5",
   "metadata": {},
   "outputs": [
    {
     "data": {
      "text/plain": [
       "[]"
      ]
     },
     "execution_count": 53,
     "metadata": {},
     "output_type": "execute_result"
    }
   ],
   "source": [
    "# limpiar toda la lista\n",
    "listado_total.clear()\n",
    "listado_total"
   ]
  },
  {
   "cell_type": "code",
   "execution_count": 54,
   "id": "6b4fff19-fc95-4b64-8cc9-93bfebbab1cd",
   "metadata": {},
   "outputs": [
    {
     "data": {
      "text/plain": [
       "['c#', 'java', 'c', 'python', 'javascript']"
      ]
     },
     "execution_count": 54,
     "metadata": {},
     "output_type": "execute_result"
    }
   ],
   "source": [
    "# Invertir orden\n",
    "lista.reverse()\n",
    "lista"
   ]
  },
  {
   "cell_type": "code",
   "execution_count": 55,
   "id": "cfad3d54-9175-459e-9bfc-3838d0fac078",
   "metadata": {},
   "outputs": [
    {
     "data": {
      "text/plain": [
       "['c#', 'java', 'c', 'python', 'javascript']"
      ]
     },
     "execution_count": 55,
     "metadata": {},
     "output_type": "execute_result"
    }
   ],
   "source": [
    "# Multiplicar lista\n",
    "lista * 5\n",
    "lista"
   ]
  },
  {
   "cell_type": "code",
   "execution_count": 56,
   "id": "45c5d7d7-d7c9-4de3-bfb9-f06052fccafa",
   "metadata": {},
   "outputs": [
    {
     "data": {
      "text/plain": [
       "['c#',\n",
       " 'java',\n",
       " 'c',\n",
       " 'python',\n",
       " 'javascript',\n",
       " 'c#',\n",
       " 'java',\n",
       " 'c',\n",
       " 'python',\n",
       " 'javascript',\n",
       " 'c#',\n",
       " 'java',\n",
       " 'c',\n",
       " 'python',\n",
       " 'javascript',\n",
       " 'c#',\n",
       " 'java',\n",
       " 'c',\n",
       " 'python',\n",
       " 'javascript',\n",
       " 'c#',\n",
       " 'java',\n",
       " 'c',\n",
       " 'python',\n",
       " 'javascript']"
      ]
     },
     "execution_count": 56,
     "metadata": {},
     "output_type": "execute_result"
    }
   ],
   "source": [
    "lista = lista * 5\n",
    "lista"
   ]
  },
  {
   "cell_type": "code",
   "execution_count": 60,
   "id": "970e95d2-91b2-474a-8773-b91f0371a057",
   "metadata": {},
   "outputs": [
    {
     "name": "stdout",
     "output_type": "stream",
     "text": [
      "[1, 3, 7, 8, 54, 90]\n"
     ]
    }
   ],
   "source": [
    "#Ordenar lista\n",
    "lista_para_ordenar = [8,3,1,7,54,90]\n",
    "lista_para_ordenar.sort()\n",
    "print(lista_para_ordenar)"
   ]
  },
  {
   "cell_type": "code",
   "execution_count": 61,
   "id": "f9adc366-2ac7-487f-814b-889509131327",
   "metadata": {},
   "outputs": [
    {
     "data": {
      "text/plain": [
       "[90, 54, 8, 7, 3, 1]"
      ]
     },
     "execution_count": 61,
     "metadata": {},
     "output_type": "execute_result"
    }
   ],
   "source": [
    "# Ordenar lista en reversa\n",
    "lista_para_ordenar.sort(reverse=True)\n",
    "lista_para_ordenar"
   ]
  },
  {
   "cell_type": "code",
   "execution_count": 62,
   "id": "8c4b0869-d445-4a02-9a08-9ad6396de0ac",
   "metadata": {},
   "outputs": [
    {
     "data": {
      "text/plain": [
       "0"
      ]
     },
     "execution_count": 62,
     "metadata": {},
     "output_type": "execute_result"
    }
   ],
   "source": [
    "x = 0\n",
    "x"
   ]
  },
  {
   "cell_type": "code",
   "execution_count": 65,
   "id": "56458c5e-bd09-46ae-8abd-1f2e4f5420bb",
   "metadata": {},
   "outputs": [
    {
     "data": {
      "text/plain": [
       "[1, 3, 7, 8, 54, 90]"
      ]
     },
     "execution_count": 65,
     "metadata": {},
     "output_type": "execute_result"
    }
   ],
   "source": [
    "lista_ordenada = lista_para_ordenar.copy()\n",
    "lista_ordenada"
   ]
  },
  {
   "cell_type": "code",
   "execution_count": 72,
   "id": "6679b417-28fc-4a95-b325-a99102eb5975",
   "metadata": {},
   "outputs": [
    {
     "name": "stdout",
     "output_type": "stream",
     "text": [
      "[('EEUU', 123), ('Perú', 324), ('China', 3434), ('Brasil', 121)]\n",
      "En EEUU existen 123 millones de estudiantes\n",
      "En Perú existen 324 millones de estudiantes\n",
      "En China existen 3434 millones de estudiantes\n",
      "En Brasil existen 121 millones de estudiantes\n"
     ]
    }
   ],
   "source": [
    "# Metodo para unir listas: zip()\n",
    "pais=['EEUU','Perú','China','Brasil']\n",
    "poblacion=[123,324,3434,121]\n",
    "lista_unida_zip= list(zip(pais,poblacion))\n",
    "print(lista_unida_zip)\n",
    "\n",
    "for pa,po in zip(pais, poblacion):\n",
    "    print(f'En {pa} existen {po} millones de estudiantes')"
   ]
  },
  {
   "cell_type": "code",
   "execution_count": null,
   "id": "52448c2a-85b2-4214-9488-078ac4837271",
   "metadata": {},
   "outputs": [],
   "source": []
  }
 ],
 "metadata": {
  "kernelspec": {
   "display_name": "Python 3 (ipykernel)",
   "language": "python",
   "name": "python3"
  },
  "language_info": {
   "codemirror_mode": {
    "name": "ipython",
    "version": 3
   },
   "file_extension": ".py",
   "mimetype": "text/x-python",
   "name": "python",
   "nbconvert_exporter": "python",
   "pygments_lexer": "ipython3",
   "version": "3.13.7"
  }
 },
 "nbformat": 4,
 "nbformat_minor": 5
}
