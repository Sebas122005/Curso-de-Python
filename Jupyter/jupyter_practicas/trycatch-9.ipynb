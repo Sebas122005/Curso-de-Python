{
 "cells": [
  {
   "cell_type": "markdown",
   "id": "8869c838-8419-400f-9690-6bd00ef2f542",
   "metadata": {},
   "source": [
    "# Try-Except -> Error & Exceptions Handling\n",
    "> try #==> Execute this code (Ejecuta este codigo)\n",
    "\n",
    "> except #==> Execute this block when exception ocurred(Ejecuta este bloque cuando ocurra la exception)\n",
    "\n",
    "> else #==> If no exception run this code(Si no hay excepcion ejecuta este codigo)\n",
    "\n",
    "> finally #==> Always tun this block of code(Siempre ejecuta este bloque de codigo)"
   ]
  },
  {
   "cell_type": "code",
   "execution_count": 14,
   "id": "03885c35-c8ba-4dd8-a048-cc9ce0ecf27f",
   "metadata": {},
   "outputs": [
    {
     "name": "stdout",
     "output_type": "stream",
     "text": [
      "El resultado es 0.03907834101382489\n",
      "Este print es de finally:\n",
      "Esto se ve despues del try - exception\n"
     ]
    }
   ],
   "source": [
    "#Try-Exception\n",
    "def division(a,b):\n",
    "    try:\n",
    "        r=a/b\n",
    "        print(f'El resultado es {r}')\n",
    "    except ZeroDivisionError:\n",
    "        print(f'Error al dividir con cero')\n",
    "    except TypeError:\n",
    "        print(f'Error al dividir por el mal ingreso de variables')\n",
    "    finally:\n",
    "        print('Este print es de finally:.................')\n",
    "    print(f'Esto se ve despues del try - exception')\n",
    "division(212,5425)"
   ]
  },
  {
   "cell_type": "code",
   "execution_count": 18,
   "id": "1c300b39-82b1-440c-a4bf-eab627c225d3",
   "metadata": {},
   "outputs": [
    {
     "name": "stdin",
     "output_type": "stream",
     "text": [
      "Primer valor:  25\n",
      "Segundo valor:  5\n"
     ]
    },
    {
     "name": "stdout",
     "output_type": "stream",
     "text": [
      "La suma es 30\n",
      "Ultimo print de la funcion\n"
     ]
    }
   ],
   "source": [
    "def funcion_suma_try():\n",
    "    try:\n",
    "        val1= int(input('Primer valor: '))\n",
    "        val2= int(input('Segundo valor: '))\n",
    "    except ValueError:\n",
    "        print(f'Error en except ValueError')\n",
    "    else:\n",
    "        suma=val1+val2\n",
    "        print(f'La suma es {suma}')\n",
    "    print('Ultimo print de la funcion')\n",
    "funcion_suma_try()\n",
    "    "
   ]
  },
  {
   "cell_type": "code",
   "execution_count": 20,
   "id": "7774a753-fdd6-4944-98d8-e19fbb96dd09",
   "metadata": {},
   "outputs": [
    {
     "name": "stdin",
     "output_type": "stream",
     "text": [
      "Primer valor:  dsf\n"
     ]
    },
    {
     "name": "stdout",
     "output_type": "stream",
     "text": [
      "Error en except ValueError\n",
      "Este es un print en el finally\n"
     ]
    },
    {
     "name": "stdin",
     "output_type": "stream",
     "text": [
      "Primer valor:  2\n",
      "Segundo valor:  3\n"
     ]
    },
    {
     "name": "stdout",
     "output_type": "stream",
     "text": [
      "La suma es 5\n",
      "Este es un print en el finally\n",
      "Este print es despues del while\n"
     ]
    }
   ],
   "source": [
    "#Uso de continue en try\n",
    "\n",
    "def funcion_suma_try_y_continue():\n",
    "    bandera=True\n",
    "    while bandera==True:\n",
    "        try:\n",
    "            val1= int(input('Primer valor: '))\n",
    "            val2= int(input('Segundo valor: '))\n",
    "        except ValueError:\n",
    "            print(f'Error en except ValueError')\n",
    "            continue\n",
    "        else:    \n",
    "            print(f'La suma es {val1+val2}')\n",
    "            bandera=False\n",
    "        finally:\n",
    "            print('Este es un print en el finally')\n",
    "    print('Este print es despues del while')\n",
    "\n",
    "funcion_suma_try_y_continue()"
   ]
  },
  {
   "cell_type": "code",
   "execution_count": 21,
   "id": "8dea408c-1785-49ef-bd7a-d6688db6b26c",
   "metadata": {},
   "outputs": [
    {
     "name": "stdin",
     "output_type": "stream",
     "text": [
      "Ingresar primer valor entero:  rooo\n"
     ]
    },
    {
     "name": "stdout",
     "output_type": "stream",
     "text": [
      "Error al cargar el dato\n"
     ]
    },
    {
     "name": "stdin",
     "output_type": "stream",
     "text": [
      "Ingresar primer valor entero:  23\n",
      "Ingresar primer valor entero:  23\n",
      "Ingresar primer valor entero:  32\n"
     ]
    },
    {
     "name": "stdout",
     "output_type": "stream",
     "text": [
      "La suma de los valores ingresados es 78\n"
     ]
    }
   ],
   "source": [
    "#Validar si un numero es entero\n",
    "def pedir_numero():\n",
    "    bandera=True\n",
    "    while bandera==True:\n",
    "        try:\n",
    "            a = int(input('Ingresar primer valor entero: '))\n",
    "            bandera= False\n",
    "            return a\n",
    "        except:\n",
    "            print('Error al cargar el dato')\n",
    "            bandera= True\n",
    "\n",
    "a=pedir_numero()\n",
    "b=pedir_numero()\n",
    "c=pedir_numero()\n",
    "suma=a+b+c\n",
    "print(f'La suma de los valores ingresados es {suma}')\n"
   ]
  },
  {
   "cell_type": "code",
   "execution_count": null,
   "id": "0821ff80-9d43-4337-8970-c0e99684712b",
   "metadata": {},
   "outputs": [],
   "source": []
  }
 ],
 "metadata": {
  "kernelspec": {
   "display_name": "Python 3 (ipykernel)",
   "language": "python",
   "name": "python3"
  },
  "language_info": {
   "codemirror_mode": {
    "name": "ipython",
    "version": 3
   },
   "file_extension": ".py",
   "mimetype": "text/x-python",
   "name": "python",
   "nbconvert_exporter": "python",
   "pygments_lexer": "ipython3",
   "version": "3.13.7"
  }
 },
 "nbformat": 4,
 "nbformat_minor": 5
}
