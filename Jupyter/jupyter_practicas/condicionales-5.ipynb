{
 "cells": [
  {
   "cell_type": "markdown",
   "id": "0699aefa-562d-408d-b6e3-67318822eac9",
   "metadata": {},
   "source": [
    "## Condicionales de igualdad(a==b) o diferencia(a!=b) con el objectivo de conseguir un valor boleano(True o False)\n",
    "> Igualdad a == b\n",
    "> \n",
    "> Diferencia a !=b\n",
    ">\n",
    "> Menor que a < b\n",
    ">\n",
    "> Mayor que 'a > b'\n",
    ">\n",
    "> Menor o igual que a <= b\n",
    ">\n",
    "> Mayor o igual que a >= b"
   ]
  },
  {
   "cell_type": "code",
   "execution_count": 7,
   "id": "c64f32be-1080-4d3b-a20b-637853fb4064",
   "metadata": {},
   "outputs": [
    {
     "name": "stdout",
     "output_type": "stream",
     "text": [
      "5 es igual a 5\n"
     ]
    },
    {
     "name": "stdout",
     "output_type": "stream",
     "text": [
      "Ingresar numero: 0\n"
     ]
    },
    {
     "name": "stdout",
     "output_type": "stream",
     "text": [
      "El numero es Neutro\n"
     ]
    }
   ],
   "source": [
    "a=5\n",
    "b=5\n",
    "if a < b:\n",
    "    print(f'{a} es menor a {b}')\n",
    "elif a == b:\n",
    "    print(f'{a} es igual a {b}')\n",
    "else:\n",
    "    print(f'{a} es mayor a {b}')\n",
    "\n",
    "def numero_positivo_negativo(numero):\n",
    "    if(numero>0):\n",
    "        return 'Positivo'\n",
    "    elif numero<0:\n",
    "        return 'Negativo'\n",
    "    else:\n",
    "        return '0'\n",
    "num=int(input('Ingresar numero:'))\n",
    "respuesta=numero_positivo_negativo(num)\n",
    "print(f'El numero es {respuesta}')"
   ]
  },
  {
   "cell_type": "code",
   "execution_count": 20,
   "id": "260dca8c-2c71-4ddc-aef3-38806a0f11eb",
   "metadata": {},
   "outputs": [
    {
     "name": "stdout",
     "output_type": "stream",
     "text": [
      "Ingresar valor 1: 6\n",
      "Ingresar valor 2: 9\n",
      "Ingresar operación:\n",
      " +\n",
      " -\n",
      " x\n",
      " /\n",
      " **\n",
      " x\n"
     ]
    },
    {
     "name": "stdout",
     "output_type": "stream",
     "text": [
      "El resultado es : 54\n"
     ]
    }
   ],
   "source": [
    "\n",
    "def operaciones(num1,num2,op):\n",
    "    reultado=0\n",
    "    if op == '+':\n",
    "        resultado=num1+num2\n",
    "    elif op == '-':\n",
    "        resultado=num1-num2\n",
    "    elif op == 'x':\n",
    "        resultado=num1*num2\n",
    "    elif op == '/':\n",
    "        resultado=num1/num2\n",
    "    elif op == '**':\n",
    "        resultado=num1**num2\n",
    "    return round(resultado,2)\n",
    "    \n",
    "rep_1=True\n",
    "rep_2=True\n",
    "while(rep_1==True):\n",
    "    valor_1=input('Ingresar valor 1:')\n",
    "    if(valor_1.isnumeric() and int(valor_1)>0):\n",
    "        while(rep_2==True):\n",
    "            valor_2=input('Ingresar valor 2:')\n",
    "            if (valor_2.isnumeric() and valor_2>valor_1):\n",
    "                operacion=input('Ingresar operación:\\n +\\n -\\n x\\n /\\n **\\n')\n",
    "                resultado=operaciones(int(valor_1),int(valor_2),operacion)\n",
    "                print(f'El resultado es : {resultado}')\n",
    "                rep_1=False\n",
    "                rep_2=False\n",
    "            else:\n",
    "                print(f'El valor 2 debe ser mayor al valor 1')\n",
    "                continue\n",
    "    else:\n",
    "        continue\n",
    "    "
   ]
  },
  {
   "cell_type": "code",
   "execution_count": 22,
   "id": "a611b5cc-bae6-4b1e-a2ed-a190a528c2f2",
   "metadata": {},
   "outputs": [
    {
     "name": "stdout",
     "output_type": "stream",
     "text": [
      "No existe\n"
     ]
    }
   ],
   "source": [
    "a='6'\n",
    "lista_prov=['y','Y','X','x']\n",
    "if a in lista_prov:\n",
    "    print(f'{a} existe en {lista_prov}')\n",
    "else:\n",
    "    print('No existe')"
   ]
  },
  {
   "cell_type": "code",
   "execution_count": 25,
   "id": "ae4e15fd-f338-4dc7-93c3-635e6c8c8ccd",
   "metadata": {},
   "outputs": [
    {
     "name": "stdout",
     "output_type": "stream",
     "text": [
      "Ingresar usuario: admin\n",
      "Ingresar Contraseña admin\n"
     ]
    },
    {
     "name": "stdout",
     "output_type": "stream",
     "text": [
      "Respuesta: te has logeado\n"
     ]
    }
   ],
   "source": [
    "user=input('Ingresar usuario:')\n",
    "pase= input('Ingresar Contraseña')\n",
    "respuesta=0\n",
    "if(user=='admin' and pase=='admin'):\n",
    "    respuesta='te has logeado'\n",
    "else:\n",
    "    respuesta='error'\n",
    "print('Respuesta:', respuesta)"
   ]
  },
  {
   "cell_type": "code",
   "execution_count": 50,
   "id": "73d026ad-03a5-4d0e-be6d-1a811639d3b7",
   "metadata": {
    "editable": true,
    "slideshow": {
     "slide_type": ""
    },
    "tags": []
   },
   "outputs": [
    {
     "name": "stdout",
     "output_type": "stream",
     "text": [
      "Ingresar usuario:  sebas\n",
      "Ingresar contraseña:  pass\n"
     ]
    },
    {
     "name": "stdout",
     "output_type": "stream",
     "text": [
      "Te has logueado sebas\n",
      "['pantalla_principal', 'pantalla_ventas', 'pantalla_proveedores', 'pantalla_inventario', 'pantalla_reportes']\n"
     ]
    }
   ],
   "source": [
    "diccionario_accesos={'sebas':'pass','edu':'pass','jose':'pass'}\n",
    "lista_pantallas=['pantalla_principal','pantalla_ventas','pantalla_proveedores','pantalla_inventario','pantalla_reportes']\n",
    "diccionario_permisos={1:lista_pantallas[0:5],2:lista_pantallas[1]}\n",
    "diccionario_roles={'admin':diccionario_permisos[1],'trabajador':diccionario_permisos[2]}\n",
    "diccionario_accesos_usuarios={'sebas':diccionario_roles['admin'],'edu':diccionario_roles['trabajador'],'jose':diccionario_roles['trabajador']}\n",
    "\n",
    "user=input('Ingresar usuario: ')\n",
    "pase=input('Ingresar contraseña: ')\n",
    "\n",
    "if(user in diccionario_accesos.keys()):\n",
    "    if(pase == diccionario_accesos[user]):\n",
    "        print('Te has logueado',user)\n",
    "        print(diccionario_accesos_usuarios[user])\n",
    "else:\n",
    "    print('Credenciales incorrectas')\n",
    "\n"
   ]
  },
  {
   "cell_type": "code",
   "execution_count": 53,
   "id": "a3e8e9f5-5a7a-45eb-9c64-932275a64094",
   "metadata": {},
   "outputs": [
    {
     "name": "stdout",
     "output_type": "stream",
     "text": [
      "Numero a validar:  6\n"
     ]
    },
    {
     "name": "stdout",
     "output_type": "stream",
     "text": [
      "Es numero par\n"
     ]
    }
   ],
   "source": [
    "# Reto: Pedir un numero y mostrar si es par o inpar\n",
    "entrada= int(input('Numero a validar: '))\n",
    "\n",
    "if entrada > 0 and entrada <=1000:\n",
    "    # Con % se obtiene el residuo\n",
    "    if(entrada%2==0):\n",
    "        print('Es numero par')\n",
    "    else:\n",
    "        print('Es numero inpar')\n",
    "else:\n",
    "    print('Numero invalido')"
   ]
  },
  {
   "cell_type": "code",
   "execution_count": 56,
   "id": "8f73cdd4-278a-48a1-a938-6f11dce1b9b2",
   "metadata": {},
   "outputs": [
    {
     "name": "stdout",
     "output_type": "stream",
     "text": [
      "Introducir fecha de Nacimiento (dd/mm/yyyy):  03/09/2005\n"
     ]
    },
    {
     "name": "stdout",
     "output_type": "stream",
     "text": [
      "Feliz cumpleaños\n",
      "Tienes 20 años\n"
     ]
    }
   ],
   "source": [
    "# Reto: Calcular edad\n",
    "import datetime as Date\n",
    "fecha_nacimiento = input('Introducir fecha de Nacimiento (dd/mm/yyyy): ')\n",
    "fecha_nacimiento_date = Date.datetime.strptime(fecha_nacimiento, '%d/%m/%Y')\n",
    "fecha_actual = Date.date.today()\n",
    "if (fecha_nacimiento_date.day == fecha_actual.day) and (fecha_nacimiento_date.month == fecha_actual.month):\n",
    "    print('Feliz cumpleaños')\n",
    "else:\n",
    "    print('Hoy no es tu cumpleaños')\n",
    "# Calcular la diferencia en años    \n",
    "edad = fecha_actual.year - fecha_nacimiento_date.year\n",
    "# Ajustar si no ha cumplido años este año\n",
    "if (fecha_actual.month, fecha_actual.day) < (fecha_nacimiento_date.month, fecha_nacimiento_date.day):\n",
    "    edad -= 1\n",
    "# Mostrar la edad\n",
    "\n",
    "print(f'Tienes {edad} años')"
   ]
  },
  {
   "cell_type": "code",
   "execution_count": null,
   "id": "4797a2b5-1278-4ab0-aa9f-caceee436806",
   "metadata": {},
   "outputs": [],
   "source": []
  }
 ],
 "metadata": {
  "kernelspec": {
   "display_name": "Python 3",
   "language": "python",
   "name": "python3"
  },
  "language_info": {
   "codemirror_mode": {
    "name": "ipython",
    "version": 3
   },
   "file_extension": ".py",
   "mimetype": "text/x-python",
   "name": "python",
   "nbconvert_exporter": "python",
   "pygments_lexer": "ipython3",
   "version": "3.13.7"
  }
 },
 "nbformat": 4,
 "nbformat_minor": 5
}
