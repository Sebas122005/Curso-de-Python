{
 "cells": [
  {
   "cell_type": "markdown",
   "id": "b97cefc0-891d-4ca9-b27f-75dd64958b2a",
   "metadata": {},
   "source": [
    "# Funciones en python"
   ]
  },
  {
   "cell_type": "markdown",
   "id": "a1da50db-8158-4e42-b175-4460e5393f72",
   "metadata": {},
   "source": [
    "## Es un pedazo de codigo que retorna o ejecuta procesos o tambien llamados tareas"
   ]
  },
  {
   "cell_type": "code",
   "execution_count": 2,
   "id": "1aa9cc1e-e402-48d3-90dc-b991b7640a3c",
   "metadata": {},
   "outputs": [
    {
     "name": "stdout",
     "output_type": "stream",
     "text": [
      "Este es una respuesta que retorna la funcion invocada\n"
     ]
    }
   ],
   "source": [
    "# funciones....\n",
    "def funcion_saludo():\n",
    "    return 'Este es una respuesta que retorna la funcion invocada'\n",
    "print(funcion_saludo())"
   ]
  },
  {
   "cell_type": "code",
   "execution_count": 4,
   "id": "70c4c530-2618-4f7c-b705-476b30914b0e",
   "metadata": {},
   "outputs": [
    {
     "name": "stdout",
     "output_type": "stream",
     "text": [
      "Este es el retorno de param1 Valor 1, y el param2 Valor 2\n"
     ]
    }
   ],
   "source": [
    "def nueva_funcion(param1=None,param2=None):\n",
    "    return f'Este es el retorno de param1 {param1}, y el param2 {param2}'\n",
    "print(nueva_funcion(\"Valor 1\",\"Valor 2\"))"
   ]
  },
  {
   "cell_type": "code",
   "execution_count": 7,
   "id": "479c894d-d12a-43f6-9589-f3634aae4a03",
   "metadata": {},
   "outputs": [
    {
     "name": "stdin",
     "output_type": "stream",
     "text": [
      "Ingresar primer numero:  55\n",
      "Ingresar segundo numero:  10\n"
     ]
    },
    {
     "name": "stdout",
     "output_type": "stream",
     "text": [
      "El resultado de la suma es 65\n"
     ]
    }
   ],
   "source": [
    "def suma(val1,val2):\n",
    "    return val1+val2\n",
    "numero_1=int(input('Ingresar primer numero: '))\n",
    "numero_2=int(input('Ingresar segundo numero: '))\n",
    "resultado = suma(numero_1,numero_2)\n",
    "print(f'El resultado de la suma es {resultado}')"
   ]
  },
  {
   "cell_type": "code",
   "execution_count": 8,
   "id": "5ad83675-be5f-4174-bd23-8842f9366c23",
   "metadata": {},
   "outputs": [
    {
     "name": "stdin",
     "output_type": "stream",
     "text": [
      "Ingresar primer numero:  50\n",
      "Ingresar segundo numero:  2\n"
     ]
    },
    {
     "name": "stdout",
     "output_type": "stream",
     "text": [
      "El resultado es 48\n"
     ]
    }
   ],
   "source": [
    "def resta(val1,val2):\n",
    "    return val1-val2\n",
    "numero_1=int(input('Ingresar primer numero: '))\n",
    "numero_2=int(input('Ingresar segundo numero: '))\n",
    "resultado = resta(numero_1,numero_2)\n",
    "print(f'El resultado es {resultado}')"
   ]
  },
  {
   "cell_type": "code",
   "execution_count": 5,
   "id": "8e83d388-0235-4cb8-892a-04aaace8baab",
   "metadata": {},
   "outputs": [
    {
     "name": "stdout",
     "output_type": "stream",
     "text": [
      "('SEBAS', 'EDU', 'PEPE', 'JOSE', 'RAUL', 'ALEX') \n",
      "\n",
      "Saludos SEBAS bienvendo a las funciones por *args\n",
      "Saludos EDU bienvendo a las funciones por *args\n",
      "Saludos PEPE bienvendo a las funciones por *args\n",
      "Saludos JOSE bienvendo a las funciones por *args\n",
      "Saludos RAUL bienvendo a las funciones por *args\n",
      "Saludos ALEX bienvendo a las funciones por *args\n"
     ]
    }
   ],
   "source": [
    "# Funcion *args\n",
    "def funcion_uno(*personas):\n",
    "    print(f'{personas} \\n')\n",
    "    for per in personas:\n",
    "        print(f'Saludos {per} bienvendo a las funciones por *args')\n",
    "funcion_uno('SEBAS','EDU','PEPE','JOSE','RAUL','ALEX')"
   ]
  },
  {
   "cell_type": "code",
   "execution_count": 6,
   "id": "e228ec0f-6534-4962-830b-8adc4f378d52",
   "metadata": {},
   "outputs": [
    {
     "name": "stdout",
     "output_type": "stream",
     "text": [
      "El resultado de la sumaN es 15\n"
     ]
    }
   ],
   "source": [
    "def sumaN(*num):\n",
    "    r=sum(num)\n",
    "    return r\n",
    "ejemplo1=sumaN(1,2,3,4,5)\n",
    "print(f'El resultado de la sumaN es {ejemplo1}')"
   ]
  },
  {
   "cell_type": "code",
   "execution_count": 8,
   "id": "a9bcb520-5944-4b04-9955-6a1853efd487",
   "metadata": {},
   "outputs": [
    {
     "name": "stdout",
     "output_type": "stream",
     "text": [
      "El numero mayor es 213232\n",
      "El numero menor es 1\n"
     ]
    }
   ],
   "source": [
    "# *args: argumentos ilimitados\n",
    "def mayorN(*num):\n",
    "    r=max(num)\n",
    "    return r\n",
    "demo1 = mayorN(1,5,2,76546,213232,23)\n",
    "print(f'El numero mayor es {demo1}')\n",
    "print(f'El numero menor es {min(23,2,32,32,3,21,34,34,34,1)}')"
   ]
  },
  {
   "cell_type": "code",
   "execution_count": 9,
   "id": "c2d622a3-66dd-4d5f-88cd-37ae3a3e2981",
   "metadata": {},
   "outputs": [
    {
     "name": "stdout",
     "output_type": "stream",
     "text": [
      "El resultado de la sumaN es 34821\n"
     ]
    }
   ],
   "source": [
    "def sumaN(*num):\n",
    "    suma=0\n",
    "    for x in num[:]:\n",
    "        suma+=x\n",
    "    return suma\n",
    "\n",
    "resultado = sumaN(23,34343,4,3,43,4,324,32,42,3)\n",
    "print(f'El resultado de la sumaN es {resultado}')"
   ]
  },
  {
   "cell_type": "code",
   "execution_count": 3,
   "id": "4c942880-d704-406f-84d5-5064e4043326",
   "metadata": {},
   "outputs": [
    {
     "name": "stdout",
     "output_type": "stream",
     "text": [
      "El numero mayor obtenido sin usar max() es : 546675\n"
     ]
    }
   ],
   "source": [
    "def mayorN2(*num):\n",
    "    n_mayor=num[0]\n",
    "    for x in num[:]:\n",
    "        if(x>n_mayor):\n",
    "            n_mayor=x\n",
    "    return n_mayor\n",
    "print(f'El numero mayor obtenido sin usar max() es : {mayorN2(1,12,34,3,546675,4,43245)}')"
   ]
  },
  {
   "cell_type": "code",
   "execution_count": 5,
   "id": "853d647a-cc3e-49c8-8115-0b43087977f8",
   "metadata": {},
   "outputs": [
    {
     "name": "stdout",
     "output_type": "stream",
     "text": [
      "El numero menor obtenido sin usar min() es: 3\n"
     ]
    }
   ],
   "source": [
    "def menorN2(*num):\n",
    "    n_menor=num[0]\n",
    "    for x in num[:]:\n",
    "        if x<n_menor:\n",
    "            n_menor=x\n",
    "    return n_menor\n",
    "print(f'El numero menor obtenido sin usar min() es: {menorN2(34,3,43,423,41,34,32,11,4)}')"
   ]
  },
  {
   "cell_type": "code",
   "execution_count": 6,
   "id": "20963e51-2012-4c76-a46d-87e28dbef936",
   "metadata": {},
   "outputs": [
    {
     "name": "stdout",
     "output_type": "stream",
     "text": [
      "Saludos Sebastian Cortez Cotos\n",
      "Lenguaje: php\n",
      "Lenguaje: python\n",
      "Lenguaje: java\n",
      "Lenguaje: c#\n",
      "Manejas todos estos lenguajes ('php', 'python', 'java', 'c#')\n"
     ]
    }
   ],
   "source": [
    "def personas_lenguajes(nom,ape_p,ape_m,*len):\n",
    "    print(f'Saludos {nom} {ape_p} {ape_m}')\n",
    "    for x in len[:]:\n",
    "        print(f'Lenguaje: {x}')\n",
    "    print(f'Manejas todos estos lenguajes {len}')\n",
    "\n",
    "personas_lenguajes('Sebastian','Cortez','Cotos','php','python','java','c#')"
   ]
  },
  {
   "cell_type": "code",
   "execution_count": 22,
   "id": "633f2440-e6bc-46b3-9ceb-d1be0a486943",
   "metadata": {},
   "outputs": [
    {
     "name": "stdout",
     "output_type": "stream",
     "text": [
      "Saludos Sebas eres el numero 1\n",
      "Saludos Rosa eres el numero 2\n",
      "Saludos Ana eres el numero 3\n",
      "Felicidades Ana eres el Ganador!!!\n",
      "Saludos Edu eres el numero 4\n",
      "Saludos Juan eres el numero 5\n",
      "Saludos Pepe eres el numero 6\n"
     ]
    }
   ],
   "source": [
    "#uso de enumerate()\n",
    "import random\n",
    "def lista_p(*nombres):\n",
    "    ganador= random.randint(1,len(nombres))\n",
    "    for count, val in enumerate(nombres):\n",
    "        print(f'Saludos {val} eres el numero {count+1}')\n",
    "        if(ganador== count+1):\n",
    "            print(f'Felicidades {val} eres el Ganador!!!')\n",
    "lista_p('Sebas','Rosa','Ana','Edu','Juan','Pepe')"
   ]
  },
  {
   "cell_type": "code",
   "execution_count": 25,
   "id": "9586ef46-9628-4c9e-b017-b0c8af3c526e",
   "metadata": {},
   "outputs": [
    {
     "name": "stdout",
     "output_type": "stream",
     "text": [
      "El valor de nombre -> Sebastian\n",
      "El valor de apellido_paterno -> Cortez\n",
      "El valor de apellido_materno -> Cotos\n",
      "El valor de edad -> 20\n",
      "El valor de Lenguaje -> python\n"
     ]
    }
   ],
   "source": [
    "def funcion_kawargs(**nombres):\n",
    "    for key, value in nombres.items():\n",
    "        print(f'El valor de {key} -> {value}')\n",
    "\n",
    "funcion_kawargs(nombre='Sebastian',apellido_paterno='Cortez',apellido_materno='Cotos',edad=20,Lenguaje='python')"
   ]
  },
  {
   "cell_type": "code",
   "execution_count": null,
   "id": "1d032b01-20f4-4a80-ab56-6bde75f0e13c",
   "metadata": {},
   "outputs": [],
   "source": []
  }
 ],
 "metadata": {
  "kernelspec": {
   "display_name": "Python 3 (ipykernel)",
   "language": "python",
   "name": "python3"
  },
  "language_info": {
   "codemirror_mode": {
    "name": "ipython",
    "version": 3
   },
   "file_extension": ".py",
   "mimetype": "text/x-python",
   "name": "python",
   "nbconvert_exporter": "python",
   "pygments_lexer": "ipython3",
   "version": "3.13.7"
  }
 },
 "nbformat": 4,
 "nbformat_minor": 5
}
