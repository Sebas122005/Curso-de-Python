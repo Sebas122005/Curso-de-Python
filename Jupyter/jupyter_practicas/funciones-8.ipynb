{
 "cells": [
  {
   "cell_type": "markdown",
   "id": "b97cefc0-891d-4ca9-b27f-75dd64958b2a",
   "metadata": {},
   "source": [
    "# Funciones en python"
   ]
  },
  {
   "cell_type": "markdown",
   "id": "a1da50db-8158-4e42-b175-4460e5393f72",
   "metadata": {},
   "source": [
    "## Es un pedazo de codigo que retorna o ejecuta procesos o tambien llamados tareas"
   ]
  },
  {
   "cell_type": "code",
   "execution_count": 2,
   "id": "1aa9cc1e-e402-48d3-90dc-b991b7640a3c",
   "metadata": {},
   "outputs": [
    {
     "name": "stdout",
     "output_type": "stream",
     "text": [
      "Este es una respuesta que retorna la funcion invocada\n"
     ]
    }
   ],
   "source": [
    "# funciones....\n",
    "def funcion_saludo():\n",
    "    return 'Este es una respuesta que retorna la funcion invocada'\n",
    "print(funcion_saludo())"
   ]
  },
  {
   "cell_type": "code",
   "execution_count": 4,
   "id": "70c4c530-2618-4f7c-b705-476b30914b0e",
   "metadata": {},
   "outputs": [
    {
     "name": "stdout",
     "output_type": "stream",
     "text": [
      "Este es el retorno de param1 Valor 1, y el param2 Valor 2\n"
     ]
    }
   ],
   "source": [
    "def nueva_funcion(param1=None,param2=None):\n",
    "    return f'Este es el retorno de param1 {param1}, y el param2 {param2}'\n",
    "print(nueva_funcion(\"Valor 1\",\"Valor 2\"))"
   ]
  },
  {
   "cell_type": "code",
   "execution_count": 7,
   "id": "479c894d-d12a-43f6-9589-f3634aae4a03",
   "metadata": {},
   "outputs": [
    {
     "name": "stdin",
     "output_type": "stream",
     "text": [
      "Ingresar primer numero:  55\n",
      "Ingresar segundo numero:  10\n"
     ]
    },
    {
     "name": "stdout",
     "output_type": "stream",
     "text": [
      "El resultado de la suma es 65\n"
     ]
    }
   ],
   "source": [
    "def suma(val1,val2):\n",
    "    return val1+val2\n",
    "numero_1=int(input('Ingresar primer numero: '))\n",
    "numero_2=int(input('Ingresar segundo numero: '))\n",
    "resultado = suma(numero_1,numero_2)\n",
    "print(f'El resultado de la suma es {resultado}')"
   ]
  },
  {
   "cell_type": "code",
   "execution_count": 8,
   "id": "5ad83675-be5f-4174-bd23-8842f9366c23",
   "metadata": {},
   "outputs": [
    {
     "name": "stdin",
     "output_type": "stream",
     "text": [
      "Ingresar primer numero:  50\n",
      "Ingresar segundo numero:  2\n"
     ]
    },
    {
     "name": "stdout",
     "output_type": "stream",
     "text": [
      "El resultado es 48\n"
     ]
    }
   ],
   "source": [
    "def resta(val1,val2):\n",
    "    return val1-val2\n",
    "numero_1=int(input('Ingresar primer numero: '))\n",
    "numero_2=int(input('Ingresar segundo numero: '))\n",
    "resultado = resta(numero_1,numero_2)\n",
    "print(f'El resultado es {resultado}')"
   ]
  },
  {
   "cell_type": "code",
   "execution_count": null,
   "id": "8e83d388-0235-4cb8-892a-04aaace8baab",
   "metadata": {},
   "outputs": [],
   "source": []
  }
 ],
 "metadata": {
  "kernelspec": {
   "display_name": "Python 3 (ipykernel)",
   "language": "python",
   "name": "python3"
  },
  "language_info": {
   "codemirror_mode": {
    "name": "ipython",
    "version": 3
   },
   "file_extension": ".py",
   "mimetype": "text/x-python",
   "name": "python",
   "nbconvert_exporter": "python",
   "pygments_lexer": "ipython3",
   "version": "3.13.7"
  }
 },
 "nbformat": 4,
 "nbformat_minor": 5
}
