{
 "cells": [
  {
   "cell_type": "markdown",
   "id": "803a8575-6f1f-4683-bab4-f825c802135b",
   "metadata": {},
   "source": [
    "# Colecciones de de datos con formaro para manejar (clave:valor), se escriben con llaves separados por comas \n",
    "# Sintaxis\n",
    "> diccionario = {clave_1:valor_1, clave_2:valor:2}\n",
    "# Sus claves y valores pueden ser diferentes tipos, no se pueden modificar las claves, pero si los valores"
   ]
  },
  {
   "cell_type": "code",
   "execution_count": 2,
   "id": "655cfcce-559a-4b9d-9240-fc84b786f99a",
   "metadata": {},
   "outputs": [
    {
     "name": "stdout",
     "output_type": "stream",
     "text": [
      "{'Nombre': 'Sebastian', 'Apellidos': 'Cortez Cotos', 'Lenguaje': 'Python'}\n"
     ]
    }
   ],
   "source": [
    "diccionario_1={'Nombre':'Sebastian','Apellidos':'Cortez Cotos','Lenguaje':'Python'}\n",
    "print(diccionario_1)"
   ]
  },
  {
   "cell_type": "code",
   "execution_count": 3,
   "id": "aef8ad04-818f-461b-8f15-c7ab7f23c92e",
   "metadata": {},
   "outputs": [
    {
     "name": "stdout",
     "output_type": "stream",
     "text": [
      "Sebastian\n"
     ]
    }
   ],
   "source": [
    "print(diccionario_1['Nombre'])"
   ]
  },
  {
   "cell_type": "code",
   "execution_count": 5,
   "id": "662728b1-7d8b-4ed0-852a-48e64ed34bcf",
   "metadata": {},
   "outputs": [
    {
     "name": "stdout",
     "output_type": "stream",
     "text": [
      "<class 'dict'>\n"
     ]
    }
   ],
   "source": [
    "print(type(diccionario_1))"
   ]
  },
  {
   "cell_type": "code",
   "execution_count": 6,
   "id": "40557217-fff5-4122-a26c-7df87577b4bd",
   "metadata": {},
   "outputs": [
    {
     "name": "stdout",
     "output_type": "stream",
     "text": [
      "<class 'str'>\n"
     ]
    }
   ],
   "source": [
    "print(type(diccionario_1['Nombre']))"
   ]
  },
  {
   "cell_type": "code",
   "execution_count": 7,
   "id": "2144d579-a35d-4ad5-a746-7e4b21f204a8",
   "metadata": {},
   "outputs": [
    {
     "name": "stdout",
     "output_type": "stream",
     "text": [
      "3\n"
     ]
    }
   ],
   "source": [
    "print(len(diccionario_1))"
   ]
  },
  {
   "cell_type": "code",
   "execution_count": 12,
   "id": "bebf19a9-da2c-41da-a13b-680696c399e1",
   "metadata": {},
   "outputs": [
    {
     "name": "stdout",
     "output_type": "stream",
     "text": [
      "Sebastian\n",
      "Cortez Cotos\n",
      "Python\n",
      "--------------------------------------------------\n",
      "Nombre\n",
      "Apellidos\n",
      "Lenguaje\n"
     ]
    }
   ],
   "source": [
    "key1,key2,key3=diccionario_1.keys()\n",
    "val1,val2,val3=diccionario_1.values()\n",
    "print(val1)\n",
    "print(val2)\n",
    "print(val3)\n",
    "\n",
    "print(f'-'*50)\n",
    "print(key1)\n",
    "print(key2)\n",
    "print(key3)"
   ]
  },
  {
   "cell_type": "code",
   "execution_count": 15,
   "id": "f3ebc4f0-c025-4c20-918c-e14ea296be5d",
   "metadata": {},
   "outputs": [
    {
     "name": "stdout",
     "output_type": "stream",
     "text": [
      "{'Sebas': 58, 'Alex': 49, 'Pepe': 54, 'Rosa': 43, 'Raul': 38, 'Sara': 51, 'Sofia': 41}\n"
     ]
    }
   ],
   "source": [
    "import random\n",
    "personas = ['Sebas','Alex','Pepe','Rosa','Raul','Sara','Sofia']\n",
    "diccionario_de_descuentos= {per:random.randint(1,100) for per in personas}\n",
    "print(diccionario_de_descuentos)"
   ]
  },
  {
   "cell_type": "code",
   "execution_count": 18,
   "id": "fcf7bccf-627e-46c4-8002-02019c362e9d",
   "metadata": {},
   "outputs": [
    {
     "name": "stdout",
     "output_type": "stream",
     "text": [
      "{'Lunes': 20.12, 'Martes': 14.2, 'Miercoles': 18.4, 'Jueves': 23.22, 'Viernes': 12.76, 'Sabado': 15.0, 'Domingo': 30.34}\n"
     ]
    }
   ],
   "source": [
    "#Unir listas para diccionario\n",
    "dias = ['Lunes','Martes','Miercoles','Jueves','Viernes','Sabado','Domingo']\n",
    "temperatura = [20.12,14.2,18.4,23.22,12.76,15.00,30.34]\n",
    "\n",
    "diccionario_unido_dias_temperatura = {d:t for d,t in zip(dias,temperatura)}\n",
    "print(diccionario_unido_dias_temperatura)"
   ]
  },
  {
   "cell_type": "code",
   "execution_count": 25,
   "id": "82f355b8-f317-43da-978e-bbd734a623e5",
   "metadata": {},
   "outputs": [
    {
     "name": "stdout",
     "output_type": "stream",
     "text": [
      "{'Pepe': 98, 'Charo': 19, 'Grace': 76, 'Joel': 95, 'Tito': 32, 'Franchesca': 82, 'Raul': 12}\n",
      "#################### Descuentos Mayores a 50 ####################\n",
      "{'Pepe': 98, 'Grace': 76, 'Joel': 95, 'Franchesca': 82}\n"
     ]
    }
   ],
   "source": [
    "import random\n",
    "personajes = ['Pepe','Charo','Grace','Joel','Tito','Franchesca','Raul']\n",
    "diccionario_personajes_descuentos= {person: random.randint(1,100) for person in personajes}\n",
    "print(diccionario_personajes_descuentos)\n",
    "print('#'*20,'Descuentos Mayores a 50','#'*20)\n",
    "salida_diccionario_final= {person: desc for (person,desc) in diccionario_personajes_descuentos.items() if desc>50}\n",
    "print(salida_diccionario_final)"
   ]
  },
  {
   "cell_type": "code",
   "execution_count": null,
   "id": "084112bb-b609-45cf-812a-0f9ec4bdc104",
   "metadata": {},
   "outputs": [],
   "source": []
  }
 ],
 "metadata": {
  "kernelspec": {
   "display_name": "Python 3 (ipykernel)",
   "language": "python",
   "name": "python3"
  },
  "language_info": {
   "codemirror_mode": {
    "name": "ipython",
    "version": 3
   },
   "file_extension": ".py",
   "mimetype": "text/x-python",
   "name": "python",
   "nbconvert_exporter": "python",
   "pygments_lexer": "ipython3",
   "version": "3.13.7"
  }
 },
 "nbformat": 4,
 "nbformat_minor": 5
}
