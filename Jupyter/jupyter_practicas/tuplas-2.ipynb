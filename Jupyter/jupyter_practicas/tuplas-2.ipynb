{
 "cells": [
  {
   "cell_type": "markdown",
   "id": "876149c8-6cf0-4a7a-9604-146440964d97",
   "metadata": {},
   "source": [
    "# Las tuplas son listas inmutables, no se pueden cambiar sus valores, sirven para formatear String, se pueden usar como claves para diccionarios, y son más rápidas"
   ]
  },
  {
   "cell_type": "code",
   "execution_count": 7,
   "id": "0adf483d-27dd-4c65-a433-ee2b60fceb08",
   "metadata": {},
   "outputs": [
    {
     "name": "stdout",
     "output_type": "stream",
     "text": [
      "Melón\n"
     ]
    }
   ],
   "source": [
    "# Ejemplos\n",
    "frutas = tuple(('Melón', 'Papaya', 'Sandía', 'Fresa'))\n",
    "print(frutas)"
   ]
  },
  {
   "cell_type": "code",
   "execution_count": 8,
   "id": "907c5abc-94f1-47f6-9432-d92c0d8dae9a",
   "metadata": {},
   "outputs": [
    {
     "name": "stdout",
     "output_type": "stream",
     "text": [
      "Sandía\n"
     ]
    }
   ],
   "source": [
    "print(frutas[2])"
   ]
  },
  {
   "cell_type": "code",
   "execution_count": 9,
   "id": "fcb2c6a8-5735-44f9-afe8-e823e2346ef1",
   "metadata": {},
   "outputs": [
    {
     "name": "stdout",
     "output_type": "stream",
     "text": [
      "4\n"
     ]
    }
   ],
   "source": [
    "print(len(frutas))"
   ]
  },
  {
   "cell_type": "code",
   "execution_count": 10,
   "id": "a2d0083c-301f-48dc-953e-7c582a5ac112",
   "metadata": {},
   "outputs": [
    {
     "name": "stdout",
     "output_type": "stream",
     "text": [
      "<class 'tuple'>\n"
     ]
    }
   ],
   "source": [
    "print(type(frutas))"
   ]
  },
  {
   "cell_type": "code",
   "execution_count": 11,
   "id": "f563eabf-0985-4bf1-af92-627b321730dc",
   "metadata": {},
   "outputs": [
    {
     "name": "stdout",
     "output_type": "stream",
     "text": [
      "(1, 2, 3, 'Sebastian', 'Cortez', [1, 2, 4, True], False)\n"
     ]
    }
   ],
   "source": [
    "tupla_numeros=(1,2,3,4,5,6,7)\n",
    "tupla_boleanos=(True,False,True)\n",
    "tupla_random=(1,2,3,'Sebastian','Cortez',[1,2,4,True],False)\n",
    "print(tupla_random)"
   ]
  },
  {
   "cell_type": "code",
   "execution_count": 13,
   "id": "d224b9f6-71b9-4e8b-8e67-ab43b67ab686",
   "metadata": {},
   "outputs": [
    {
     "name": "stdout",
     "output_type": "stream",
     "text": [
      "(1, 2, 3, 4, 5, 6, 7)\n",
      "(True, False, True)\n",
      "(1, 2, 3, 'Sebastian', 'Cortez', [1, 2, 4, True], False)\n"
     ]
    }
   ],
   "source": [
    "print(tupla_numeros)\n",
    "print(tupla_boleanos)\n",
    "print(tupla_random)"
   ]
  },
  {
   "cell_type": "code",
   "execution_count": 16,
   "id": "ab2ad4a2-9e76-4081-bdc1-87f3f2c9ad77",
   "metadata": {},
   "outputs": [
    {
     "name": "stdout",
     "output_type": "stream",
     "text": [
      "((1, 2, 3, 4, 5, 6, 7), (True, False, True), (1, 2, 3, 'Sebastian', 'Cortez', [1, 2, 4, True], False))\n"
     ]
    }
   ],
   "source": [
    "tupla_listas=(tupla_numeros,tupla_boleanos,tupla_random)\n",
    "print(tupla_listas)"
   ]
  },
  {
   "cell_type": "code",
   "execution_count": 18,
   "id": "ee103ad3-fff5-4844-927b-37da9ad1dd46",
   "metadata": {},
   "outputs": [
    {
     "name": "stdout",
     "output_type": "stream",
     "text": [
      "True\n"
     ]
    }
   ],
   "source": [
    "print(tupla_listas[2][5][3])"
   ]
  },
  {
   "cell_type": "code",
   "execution_count": 19,
   "id": "c649b412-70e2-4bfe-bcd9-d521761f3640",
   "metadata": {},
   "outputs": [
    {
     "data": {
      "text/plain": [
       "('Juan', 'Perez', 'Chavez', 35, 12345678)"
      ]
     },
     "execution_count": 19,
     "metadata": {},
     "output_type": "execute_result"
    }
   ],
   "source": [
    "tupla1=('Juan', 'Perez','Chavez',35,12345678)\n",
    "tupla1"
   ]
  },
  {
   "cell_type": "code",
   "execution_count": 20,
   "id": "f895344c-74b2-4666-a1b2-cde9a7d6933e",
   "metadata": {},
   "outputs": [
    {
     "name": "stdout",
     "output_type": "stream",
     "text": [
      "Nombre: Juan\n"
     ]
    }
   ],
   "source": [
    "nombre, apellido_p,apellido_m,edad,doc_identidad=tupla1\n",
    "print('Nombre:',nombre)"
   ]
  },
  {
   "cell_type": "code",
   "execution_count": 21,
   "id": "b595b2bd-028e-45c1-bed7-1994ad4cc673",
   "metadata": {},
   "outputs": [
    {
     "name": "stdout",
     "output_type": "stream",
     "text": [
      "Apellido Paterno: Perez y Apellido Materno: Chavez\n"
     ]
    }
   ],
   "source": [
    "print('Apellido Paterno:',apellido_p ,\"y\",\"Apellido Materno:\",apellido_m)"
   ]
  },
  {
   "cell_type": "code",
   "execution_count": 22,
   "id": "72fed2ea-f267-44e0-a9c0-eed7b67cf91c",
   "metadata": {},
   "outputs": [
    {
     "name": "stdout",
     "output_type": "stream",
     "text": [
      "['Juan', 'Perez', 'Chavez', 35, 12345678]\n"
     ]
    }
   ],
   "source": [
    "lista=list(tupla1)\n",
    "print(lista)"
   ]
  },
  {
   "cell_type": "markdown",
   "id": "3b65aff2-9999-43a1-a373-da46241870fa",
   "metadata": {},
   "source": [
    "# Parentesis -> Tupla\n",
    "# Corchetes  -> Lista\n",
    "# Llaves     -> Diccionario"
   ]
  },
  {
   "cell_type": "code",
   "execution_count": null,
   "id": "39881dbd-91f6-43e9-8354-b3e92e9bacbe",
   "metadata": {},
   "outputs": [],
   "source": []
  },
  {
   "cell_type": "code",
   "execution_count": null,
   "id": "25f86626-0f99-4426-9089-c5d4aa1551c2",
   "metadata": {},
   "outputs": [],
   "source": []
  }
 ],
 "metadata": {
  "kernelspec": {
   "display_name": "Python 3 (ipykernel)",
   "language": "python",
   "name": "python3"
  },
  "language_info": {
   "codemirror_mode": {
    "name": "ipython",
    "version": 3
   },
   "file_extension": ".py",
   "mimetype": "text/x-python",
   "name": "python",
   "nbconvert_exporter": "python",
   "pygments_lexer": "ipython3",
   "version": "3.13.7"
  }
 },
 "nbformat": 4,
 "nbformat_minor": 5
}
