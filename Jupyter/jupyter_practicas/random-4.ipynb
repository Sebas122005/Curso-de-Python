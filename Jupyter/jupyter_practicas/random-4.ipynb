{
 "cells": [
  {
   "cell_type": "markdown",
   "id": "b727e9a1-dd4d-4e53-ba6e-cd5e267352f5",
   "metadata": {},
   "source": [
    "# Biblioteca que genera valores aleatorios"
   ]
  },
  {
   "cell_type": "code",
   "execution_count": 4,
   "id": "c2e090ce-6e55-4208-b946-7880a8633a62",
   "metadata": {},
   "outputs": [
    {
     "name": "stdout",
     "output_type": "stream",
     "text": [
      "49\n"
     ]
    }
   ],
   "source": [
    "import random\n",
    "valor_aleatorio = random.randrange(50)\n",
    "print(valor_aleatorio)"
   ]
  },
  {
   "cell_type": "code",
   "execution_count": 5,
   "id": "4247bcb6-56e3-42b3-a92d-09f670c4a686",
   "metadata": {},
   "outputs": [
    {
     "name": "stdout",
     "output_type": "stream",
     "text": [
      "Mayor de Edad: 49\n"
     ]
    }
   ],
   "source": [
    "if valor_aleatorio>18:\n",
    "    print('Mayor de Edad:',valor_aleatorio)"
   ]
  },
  {
   "cell_type": "code",
   "execution_count": 6,
   "id": "c8fe1e18-e691-49d6-b935-b9c5f5123637",
   "metadata": {},
   "outputs": [
    {
     "name": "stdout",
     "output_type": "stream",
     "text": [
      "1\n"
     ]
    }
   ],
   "source": [
    "#Tomar un valor de una lista de manera aleatoria\n",
    "lista=[1,2,3,4,5,6,7,8]\n",
    "valor_elegido_de_lista=random.choice(lista)\n",
    "print(valor_elegido_de_lista)"
   ]
  },
  {
   "cell_type": "code",
   "execution_count": 18,
   "id": "df1456a2-a4f8-4104-a7ee-6738c4332a8f",
   "metadata": {},
   "outputs": [
    {
     "name": "stdout",
     "output_type": "stream",
     "text": [
      " \n"
     ]
    }
   ],
   "source": [
    "#Tomar un valor de una cadena de manera aleatoria\n",
    "cadena='Esto es una cadena'\n",
    "valor_extraido=random.choice(cadena)\n",
    "print(valor_extraido)"
   ]
  },
  {
   "cell_type": "code",
   "execution_count": 22,
   "id": "ac50b6c4-d0f6-4641-8c6f-4b666573a1ef",
   "metadata": {},
   "outputs": [
    {
     "name": "stdout",
     "output_type": "stream",
     "text": [
      "l2\n"
     ]
    }
   ],
   "source": [
    "listado=['l1','l2','l3','l4']\n",
    "valor_extradido_de_lista = random.choice(listado)\n",
    "print(valor_extradido_de_lista)"
   ]
  },
  {
   "cell_type": "code",
   "execution_count": 12,
   "id": "7d57b07b-b4f1-4747-b096-0420568f702b",
   "metadata": {},
   "outputs": [
    {
     "name": "stdin",
     "output_type": "stream",
     "text": [
      "Rango de: 5\n",
      "Hasta: 9\n"
     ]
    },
    {
     "name": "stdout",
     "output_type": "stream",
     "text": [
      "7\n"
     ]
    }
   ],
   "source": [
    "import random\n",
    "entrada_1= int(input('Rango de:'))\n",
    "entrada_2= int(input('Hasta:'))\n",
    "print(random.randint(entrada_1,entrada_2))\n"
   ]
  },
  {
   "cell_type": "code",
   "execution_count": 16,
   "id": "81c111e7-4f4a-417e-bfac-06e85b60eda6",
   "metadata": {},
   "outputs": [
    {
     "name": "stdout",
     "output_type": "stream",
     "text": [
      "0.7997860518585764\n"
     ]
    }
   ],
   "source": [
    "val_random = random.random()\n",
    "print(val_random)"
   ]
  },
  {
   "cell_type": "code",
   "execution_count": 21,
   "id": "3bb53fe8-3065-41f7-96c9-4293ab06de7f",
   "metadata": {},
   "outputs": [
    {
     "name": "stdout",
     "output_type": "stream",
     "text": [
      "4.72\n"
     ]
    }
   ],
   "source": [
    "#Numeros decimales\n",
    "decimales= round(random.uniform(1,10),2)\n",
    "print(decimales)"
   ]
  },
  {
   "cell_type": "code",
   "execution_count": 23,
   "id": "de771b65-3c7f-45fc-a9cd-cc9157531973",
   "metadata": {},
   "outputs": [
    {
     "name": "stdout",
     "output_type": "stream",
     "text": [
      "Teclado\n"
     ]
    }
   ],
   "source": [
    "regalos = ['Laptop','PCs','Mouse','Teclado','Pantalla','Mac']\n",
    "premio = random.choice(regalos)\n",
    "print(premio)"
   ]
  },
  {
   "cell_type": "code",
   "execution_count": 28,
   "id": "0a956a81-e175-4cc7-8505-fde62b88b009",
   "metadata": {},
   "outputs": [
    {
     "name": "stdout",
     "output_type": "stream",
     "text": [
      "Premio obtenido: Laptop\n",
      "Premio obtenido: Mouse\n",
      "Premio obtenido: Mouse\n",
      "Premio obtenido: Laptop\n",
      "Premio obtenido: Mac\n"
     ]
    }
   ],
   "source": [
    "for sorteo in range(5):\n",
    "    premio=regalos[random.randint(0,5)]\n",
    "    print('Premio obtenido:',premio)"
   ]
  },
  {
   "cell_type": "code",
   "execution_count": 6,
   "id": "4d7f7aa2-1320-409b-8666-e9e34f1f76a3",
   "metadata": {},
   "outputs": [
    {
     "name": "stdout",
     "output_type": "stream",
     "text": [
      "#################### Colores Mezclados por primera vez ####################\n",
      "['amarillo', 'rojo', 'gris', 'verde', 'blanco']\n",
      "#################### Colores Mezclados por segunda vez ####################\n",
      "['gris', 'rojo', 'verde', 'amarillo', 'blanco']\n",
      "#################### Colores Mezclados por tercera vez ####################\n",
      "['rojo', 'blanco', 'amarillo', 'gris', 'verde']\n",
      "#################### Colores Mezclados por cuarta vez ####################\n",
      "['blanco', 'amarillo', 'rojo', 'gris', 'verde']\n"
     ]
    }
   ],
   "source": [
    "import random\n",
    "lista=['amarillo','verde','rojo','gris','blanco']\n",
    "random.shuffle(lista)\n",
    "print('#'*20,'Colores Mezclados por primera vez','#'*20)\n",
    "print(lista)\n",
    "random.shuffle(lista)\n",
    "print('#'*20,'Colores Mezclados por segunda vez','#'*20)\n",
    "print(lista)\n",
    "random.shuffle(lista)\n",
    "print('#'*20,'Colores Mezclados por tercera vez','#'*20)\n",
    "print(lista)\n",
    "random.shuffle(lista)\n",
    "print('#'*20,'Colores Mezclados por cuarta vez','#'*20)\n",
    "print(lista)"
   ]
  },
  {
   "cell_type": "code",
   "execution_count": 8,
   "id": "59882f6f-2e91-403f-8692-fce4dd5abf0b",
   "metadata": {},
   "outputs": [
    {
     "name": "stdout",
     "output_type": "stream",
     "text": [
      "[1, 7, 6, 9, 3]\n"
     ]
    }
   ],
   "source": [
    "# Funcion sample(lista,2) retorna de manera aleatoria elemetos diferentes de una lista\n",
    "listado=[1,2,3,4,5,6,7,8,9]\n",
    "print(random.sample(listado,5))"
   ]
  },
  {
   "cell_type": "code",
   "execution_count": 12,
   "id": "d864dfd4-8a77-4a89-937a-7c3535f99269",
   "metadata": {},
   "outputs": [
    {
     "name": "stdout",
     "output_type": "stream",
     "text": [
      "Valor x por sample: 6\n",
      "Valor x por sample: 1\n",
      "Valor x por sample: 2\n",
      "Valor x por sample: 8\n"
     ]
    }
   ],
   "source": [
    "for x in random.sample(listado,4):\n",
    "    print('Valor x por sample:',x)"
   ]
  },
  {
   "cell_type": "code",
   "execution_count": 31,
   "id": "be035a31-22d6-42cb-9986-f584deb65528",
   "metadata": {},
   "outputs": [
    {
     "name": "stdout",
     "output_type": "stream",
     "text": [
      "[6, 11, 19, 0, 14, 9, 15, 12, 1, 7]\n"
     ]
    }
   ],
   "source": [
    "#poblar una lista aleatoriamente\n",
    "lista=[]\n",
    "for x in range(10):\n",
    "    lista.append(random.randint(0,20))\n",
    "print(lista)\n",
    "    "
   ]
  },
  {
   "cell_type": "code",
   "execution_count": 32,
   "id": "d73c9078-7f3f-4693-ad62-6bcdf34fa7a3",
   "metadata": {},
   "outputs": [
    {
     "name": "stdout",
     "output_type": "stream",
     "text": [
      "Promdeio de la lista:9.4\n"
     ]
    }
   ],
   "source": [
    "promedio=sum(lista)/len(lista)\n",
    "print(f'Promdeio de la lista:{promedio}')"
   ]
  },
  {
   "cell_type": "code",
   "execution_count": null,
   "id": "7ecaa19d-0b3b-48ea-9c6f-daafdd8f24ec",
   "metadata": {},
   "outputs": [],
   "source": []
  }
 ],
 "metadata": {
  "kernelspec": {
   "display_name": "Python 3 (ipykernel)",
   "language": "python",
   "name": "python3"
  },
  "language_info": {
   "codemirror_mode": {
    "name": "ipython",
    "version": 3
   },
   "file_extension": ".py",
   "mimetype": "text/x-python",
   "name": "python",
   "nbconvert_exporter": "python",
   "pygments_lexer": "ipython3",
   "version": "3.13.7"
  }
 },
 "nbformat": 4,
 "nbformat_minor": 5
}
