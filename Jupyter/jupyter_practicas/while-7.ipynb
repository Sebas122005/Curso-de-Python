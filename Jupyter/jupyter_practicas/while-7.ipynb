{
 "cells": [
  {
   "cell_type": "markdown",
   "id": "0bbd029b-bdf4-4c25-ba16-40c0b4239a69",
   "metadata": {},
   "source": [
    "# Ciclos while: Es un iterador"
   ]
  },
  {
   "cell_type": "code",
   "execution_count": 4,
   "id": "dbcecdfa-02b7-43f7-9956-4f38364d37ae",
   "metadata": {},
   "outputs": [
    {
     "name": "stdout",
     "output_type": "stream",
     "text": [
      "El numero es 1\n",
      "El numero es 2\n",
      "El numero es 3\n",
      "El numero es 4\n",
      "El numero es 5\n",
      "El numero es 6\n",
      "El numero es 7\n",
      "El numero es 8\n",
      "El numero es 9\n",
      "El numero es 10\n"
     ]
    }
   ],
   "source": [
    "x = 1\n",
    "while x < 11: #Iterar mientras que x sea menor a 10\n",
    "    print(f'El numero es {x}')\n",
    "    x+=1"
   ]
  },
  {
   "cell_type": "code",
   "execution_count": 5,
   "id": "f4d425a0-359c-4f6d-9bf7-db3198ad0697",
   "metadata": {},
   "outputs": [
    {
     "name": "stdout",
     "output_type": "stream",
     "text": [
      "1\n",
      "2\n",
      "3\n",
      "4\n",
      "5\n",
      "6\n",
      "7\n",
      "8\n",
      "9\n"
     ]
    }
   ],
   "source": [
    "lista=[1,2,3,4,5,6,7,8,9]\n",
    "contador=0\n",
    "while len(lista)!=contador:\n",
    "    print(lista[contador])\n",
    "    contador+=1"
   ]
  },
  {
   "cell_type": "code",
   "execution_count": null,
   "id": "3c2a1baf-919e-43e4-8464-2a10d763e043",
   "metadata": {},
   "outputs": [],
   "source": []
  }
 ],
 "metadata": {
  "kernelspec": {
   "display_name": "Python 3 (ipykernel)",
   "language": "python",
   "name": "python3"
  },
  "language_info": {
   "codemirror_mode": {
    "name": "ipython",
    "version": 3
   },
   "file_extension": ".py",
   "mimetype": "text/x-python",
   "name": "python",
   "nbconvert_exporter": "python",
   "pygments_lexer": "ipython3",
   "version": "3.13.7"
  }
 },
 "nbformat": 4,
 "nbformat_minor": 5
}
